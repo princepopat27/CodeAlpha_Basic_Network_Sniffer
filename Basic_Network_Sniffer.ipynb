{
  "nbformat": 4,
  "nbformat_minor": 0,
  "metadata": {
    "colab": {
      "provenance": [],
      "authorship_tag": "ABX9TyMEUkzX7xFjMtETljDjMMym"
    },
    "kernelspec": {
      "name": "python3",
      "display_name": "Python 3"
    },
    "language_info": {
      "name": "python"
    }
  },
  "cells": [
    {
      "cell_type": "code",
      "execution_count": null,
      "metadata": {
        "id": "YvZ0ubQkH8rL"
      },
      "outputs": [],
      "source": [
        "from scapy.all import *\n",
        "\n",
        "def packet_callback(packet):\n",
        "    if packet.haslayer(IP):\n",
        "        src_ip = packet[IP].src\n",
        "        dst_ip = packet[IP].dst\n",
        "        protocol = packet[IP].proto\n",
        "        print(f\"IP Packet: {src_ip} -> {dst_ip} Protocol: {protocol}\")\n",
        "\n",
        "    if packet.haslayer(TCP):\n",
        "        src_port = packet[TCP].sport\n",
        "        dst_port = packet[TCP].dport\n",
        "        print(f\"TCP Packet: {src_port} -> {dst_port}\")\n",
        "\n",
        "    if packet.haslayer(UDP):\n",
        "        src_port = packet[UDP].sport\n",
        "        dst_port = packet[UDP].dport\n",
        "        print(f\"UDP Packet: {src_port} -> {dst_port}\")\n",
        "\n",
        "# Sniff all incoming and outgoing packets\n",
        "sniff(prn=packet_callback, store=0)"
      ]
    }
  ]
}